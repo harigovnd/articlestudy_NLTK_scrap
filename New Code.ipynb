{
 "cells": [
  {
   "cell_type": "code",
   "execution_count": 17,
   "metadata": {},
   "outputs": [],
   "source": [
    "from bs4 import BeautifulSoup\n",
    "import requests\n",
    "import pandas as pd\n",
    "import numpy as np\n",
    "from nltk.tokenize import sent_tokenize, word_tokenize"
   ]
  },
  {
   "cell_type": "code",
   "execution_count": 18,
   "metadata": {},
   "outputs": [
    {
     "data": {
      "text/plain": [
       "(5, 2)"
      ]
     },
     "execution_count": 18,
     "metadata": {},
     "output_type": "execute_result"
    }
   ],
   "source": [
    "url_df=pd.read_excel('Test.xlsx')\n",
    "url_df.shape"
   ]
  },
  {
   "cell_type": "code",
   "execution_count": 19,
   "metadata": {},
   "outputs": [
    {
     "data": {
      "text/html": [
       "<div>\n",
       "<style scoped>\n",
       "    .dataframe tbody tr th:only-of-type {\n",
       "        vertical-align: middle;\n",
       "    }\n",
       "\n",
       "    .dataframe tbody tr th {\n",
       "        vertical-align: top;\n",
       "    }\n",
       "\n",
       "    .dataframe thead th {\n",
       "        text-align: right;\n",
       "    }\n",
       "</style>\n",
       "<table border=\"1\" class=\"dataframe\">\n",
       "  <thead>\n",
       "    <tr style=\"text-align: right;\">\n",
       "      <th></th>\n",
       "      <th>URL_ID</th>\n",
       "      <th>URL</th>\n",
       "    </tr>\n",
       "  </thead>\n",
       "  <tbody>\n",
       "    <tr>\n",
       "      <th>0</th>\n",
       "      <td>1</td>\n",
       "      <td>https://en.wikipedia.org/wiki/Hygrocybe_miniata</td>\n",
       "    </tr>\n",
       "    <tr>\n",
       "      <th>1</th>\n",
       "      <td>2</td>\n",
       "      <td>https://en.wikipedia.org/wiki/Hygrocybe_appala...</td>\n",
       "    </tr>\n",
       "    <tr>\n",
       "      <th>2</th>\n",
       "      <td>3</td>\n",
       "      <td>https://en.wikipedia.org/wiki/Fungus</td>\n",
       "    </tr>\n",
       "    <tr>\n",
       "      <th>3</th>\n",
       "      <td>4</td>\n",
       "      <td>https://en.wikipedia.org/wiki/Chromista</td>\n",
       "    </tr>\n",
       "    <tr>\n",
       "      <th>4</th>\n",
       "      <td>5</td>\n",
       "      <td>https://en.wikipedia.org/wiki/Diatom</td>\n",
       "    </tr>\n",
       "  </tbody>\n",
       "</table>\n",
       "</div>"
      ],
      "text/plain": [
       "   URL_ID                                                URL\n",
       "0       1    https://en.wikipedia.org/wiki/Hygrocybe_miniata\n",
       "1       2  https://en.wikipedia.org/wiki/Hygrocybe_appala...\n",
       "2       3               https://en.wikipedia.org/wiki/Fungus\n",
       "3       4            https://en.wikipedia.org/wiki/Chromista\n",
       "4       5               https://en.wikipedia.org/wiki/Diatom"
      ]
     },
     "execution_count": 19,
     "metadata": {},
     "output_type": "execute_result"
    }
   ],
   "source": [
    "url_df.head()"
   ]
  },
  {
   "cell_type": "markdown",
   "metadata": {},
   "source": [
    "Creating an extracted DataFrame with webscrapped data"
   ]
  },
  {
   "cell_type": "code",
   "execution_count": 20,
   "metadata": {},
   "outputs": [],
   "source": [
    "xtrctd_df=pd.DataFrame()\n",
    "headers = {\n",
    "    \"User-Agent\": \"Mozilla/5.0 (X11; Linux x86_64; rv:60.0) Gecko/20100101 Firefox/60.0\"\n",
    "    }\n",
    "for i in range(5):\n",
    "    result = requests.get(url_df['URL'][i],headers=headers)\n",
    "    soup = BeautifulSoup(result.text,\"lxml\")\n",
    "    xtrctd_df.loc[i,'Url']=url_df['URL'][i]\n",
    "    xtrctd_df.loc[i,'Title']=soup.select('title')[0].getText()\n",
    "    a=str()\n",
    "    for j in soup.select('p'):\n",
    "        a=a+j.getText()\n",
    "    xtrctd_df.loc[i,'Text']=a\n",
    "    xtrctd_df['Text'][i]=xtrctd_df['Text'][i].replace('\\n',' ')"
   ]
  },
  {
   "cell_type": "code",
   "execution_count": 21,
   "metadata": {},
   "outputs": [
    {
     "data": {
      "text/html": [
       "<div>\n",
       "<style scoped>\n",
       "    .dataframe tbody tr th:only-of-type {\n",
       "        vertical-align: middle;\n",
       "    }\n",
       "\n",
       "    .dataframe tbody tr th {\n",
       "        vertical-align: top;\n",
       "    }\n",
       "\n",
       "    .dataframe thead th {\n",
       "        text-align: right;\n",
       "    }\n",
       "</style>\n",
       "<table border=\"1\" class=\"dataframe\">\n",
       "  <thead>\n",
       "    <tr style=\"text-align: right;\">\n",
       "      <th></th>\n",
       "      <th>Url</th>\n",
       "      <th>Title</th>\n",
       "      <th>Text</th>\n",
       "    </tr>\n",
       "  </thead>\n",
       "  <tbody>\n",
       "    <tr>\n",
       "      <th>0</th>\n",
       "      <td>https://en.wikipedia.org/wiki/Hygrocybe_miniata</td>\n",
       "      <td>Hygrocybe miniata - Wikipedia</td>\n",
       "      <td>Hygrocybe strangulata (P.D.Orton) Svrcek Hygr...</td>\n",
       "    </tr>\n",
       "    <tr>\n",
       "      <th>1</th>\n",
       "      <td>https://en.wikipedia.org/wiki/Hygrocybe_appala...</td>\n",
       "      <td>Hygrocybe appalachianensis - Wikipedia</td>\n",
       "      <td>Hygrocybe appalachianensis, commonly known as...</td>\n",
       "    </tr>\n",
       "    <tr>\n",
       "      <th>2</th>\n",
       "      <td>https://en.wikipedia.org/wiki/Fungus</td>\n",
       "      <td>Fungus - Wikipedia</td>\n",
       "      <td>A fungus (plural: fungi[2] or funguses[3]) is...</td>\n",
       "    </tr>\n",
       "    <tr>\n",
       "      <th>3</th>\n",
       "      <td>https://en.wikipedia.org/wiki/Chromista</td>\n",
       "      <td>Chromista - Wikipedia</td>\n",
       "      <td>Chromista is a biological kingdom consisting ...</td>\n",
       "    </tr>\n",
       "    <tr>\n",
       "      <th>4</th>\n",
       "      <td>https://en.wikipedia.org/wiki/Diatom</td>\n",
       "      <td>Diatom - Wikipedia</td>\n",
       "      <td>Diatom (Neo-Latin diatoma)[a] refers to any m...</td>\n",
       "    </tr>\n",
       "  </tbody>\n",
       "</table>\n",
       "</div>"
      ],
      "text/plain": [
       "                                                 Url  \\\n",
       "0    https://en.wikipedia.org/wiki/Hygrocybe_miniata   \n",
       "1  https://en.wikipedia.org/wiki/Hygrocybe_appala...   \n",
       "2               https://en.wikipedia.org/wiki/Fungus   \n",
       "3            https://en.wikipedia.org/wiki/Chromista   \n",
       "4               https://en.wikipedia.org/wiki/Diatom   \n",
       "\n",
       "                                    Title  \\\n",
       "0           Hygrocybe miniata - Wikipedia   \n",
       "1  Hygrocybe appalachianensis - Wikipedia   \n",
       "2                      Fungus - Wikipedia   \n",
       "3                   Chromista - Wikipedia   \n",
       "4                      Diatom - Wikipedia   \n",
       "\n",
       "                                                Text  \n",
       "0   Hygrocybe strangulata (P.D.Orton) Svrcek Hygr...  \n",
       "1   Hygrocybe appalachianensis, commonly known as...  \n",
       "2   A fungus (plural: fungi[2] or funguses[3]) is...  \n",
       "3   Chromista is a biological kingdom consisting ...  \n",
       "4   Diatom (Neo-Latin diatoma)[a] refers to any m...  "
      ]
     },
     "execution_count": 21,
     "metadata": {},
     "output_type": "execute_result"
    }
   ],
   "source": [
    "xtrctd_df"
   ]
  },
  {
   "cell_type": "markdown",
   "metadata": {},
   "source": [
    "Text Processing"
   ]
  },
  {
   "cell_type": "code",
   "execution_count": 22,
   "metadata": {},
   "outputs": [],
   "source": [
    "from nltk.corpus import stopwords\n",
    "import string\n",
    "def text_process(mess):\n",
    "    \"\"\"\n",
    "    Takes in a string of text, then performs the following:\n",
    "    1. Remove all punctuation\n",
    "    2. Remove all stopwords\n",
    "    3. Returns a list of the cleaned text\n",
    "    \"\"\"\n",
    "    # Check characters to see if they are in punctuation\n",
    "    nopunc = [char for char in mess if char not in string.punctuation]\n",
    "\n",
    "    # Join the characters again to form the string.\n",
    "    nopunc = ''.join(nopunc)\n",
    "    \n",
    "    # Now just remove any stopwords\n",
    "    return [word for word in nopunc.split() if word.lower() not in stopwords.words('english')]"
   ]
  },
  {
   "cell_type": "code",
   "execution_count": 23,
   "metadata": {},
   "outputs": [],
   "source": [
    "def sentiment_analyse(sentiment_text):\n",
    "    score=SentimentIntensityAnalyzer().polarity_scores(sentiment_text)\n",
    "    # print(score)\n",
    "    neg=score[\"neg\"]\n",
    "    pos=score[\"pos\"]\n",
    "    return pos,neg"
   ]
  },
  {
   "cell_type": "code",
   "execution_count": 24,
   "metadata": {},
   "outputs": [],
   "source": [
    "def Check_Vow(string):\n",
    "    vowels = \"AaEeIiOoUu\"\n",
    "    final = [each for each in string if each in vowels]\n",
    "    return (len(final))"
   ]
  },
  {
   "cell_type": "code",
   "execution_count": 25,
   "metadata": {},
   "outputs": [],
   "source": [
    "def avgwlen(words):\n",
    "    leng=[]\n",
    "    for word in words:\n",
    "        leng.append(len(word))        \n",
    "    return np.mean(leng)\n"
   ]
  },
  {
   "cell_type": "code",
   "execution_count": 26,
   "metadata": {},
   "outputs": [
    {
     "data": {
      "text/plain": [
       "'https://en.wikipedia.org/wiki/Hygrocybe_miniata'"
      ]
     },
     "execution_count": 26,
     "metadata": {},
     "output_type": "execute_result"
    }
   ],
   "source": [
    "xtrctd_df.loc[0,'Url']"
   ]
  },
  {
   "cell_type": "code",
   "execution_count": 29,
   "metadata": {},
   "outputs": [],
   "source": [
    "from nltk.sentiment.vader import SentimentIntensityAnalyzer\n",
    "new_df=pd.DataFrame()\n",
    "cleanmessyy=xtrctd_df['Text'].apply(text_process)\n",
    "for i in range(5):\n",
    "    new_df.loc[i,'Url']=xtrctd_df.loc[i,'Url']\n",
    "    cleanmess=cleanmessyy[i]\n",
    "    tokenized_word_data =word_tokenize(xtrctd_df['Text'][i])\n",
    "    tokenized_sentance_data=sent_tokenize(xtrctd_df['Text'][i])\n",
    "    new_df.loc[i,['Positivity_score','Negativity_score']]=sentiment_analyse(xtrctd_df['Text'][i])\n",
    "    avgsentlen=np.mean([len(i) for i in tokenized_sentance_data])\n",
    "    new_df.loc[i,'Avg_sentence_length']=avgsentlen\n",
    "    avgwrdspersent=len(tokenized_word_data)/len(tokenized_sentance_data)\n",
    "    new_df.loc[i,'Avg_words_per_sentence']=avgwrdspersent\n",
    "    wordcnt=len(tokenized_word_data)\n",
    "    new_df.loc[i,'Word_Count']=wordcnt\n",
    "    new_df.loc[i,'Avg_word_length']=avgwlen(tokenized_word_data)"
   ]
  },
  {
   "cell_type": "code",
   "execution_count": 30,
   "metadata": {},
   "outputs": [
    {
     "data": {
      "text/html": [
       "<div>\n",
       "<style scoped>\n",
       "    .dataframe tbody tr th:only-of-type {\n",
       "        vertical-align: middle;\n",
       "    }\n",
       "\n",
       "    .dataframe tbody tr th {\n",
       "        vertical-align: top;\n",
       "    }\n",
       "\n",
       "    .dataframe thead th {\n",
       "        text-align: right;\n",
       "    }\n",
       "</style>\n",
       "<table border=\"1\" class=\"dataframe\">\n",
       "  <thead>\n",
       "    <tr style=\"text-align: right;\">\n",
       "      <th></th>\n",
       "      <th>Url</th>\n",
       "      <th>Positivity_score</th>\n",
       "      <th>Negativity_score</th>\n",
       "      <th>Avg_sentence_length</th>\n",
       "      <th>Avg_words_per_sentence</th>\n",
       "      <th>Word_Count</th>\n",
       "      <th>Avg_word_length</th>\n",
       "    </tr>\n",
       "  </thead>\n",
       "  <tbody>\n",
       "    <tr>\n",
       "      <th>0</th>\n",
       "      <td>https://en.wikipedia.org/wiki/Hygrocybe_miniata</td>\n",
       "      <td>0.042</td>\n",
       "      <td>0.016</td>\n",
       "      <td>103.307692</td>\n",
       "      <td>21.538462</td>\n",
       "      <td>560.0</td>\n",
       "      <td>4.046429</td>\n",
       "    </tr>\n",
       "    <tr>\n",
       "      <th>1</th>\n",
       "      <td>https://en.wikipedia.org/wiki/Hygrocybe_appala...</td>\n",
       "      <td>0.025</td>\n",
       "      <td>0.012</td>\n",
       "      <td>104.895522</td>\n",
       "      <td>20.522388</td>\n",
       "      <td>1375.0</td>\n",
       "      <td>4.341818</td>\n",
       "    </tr>\n",
       "    <tr>\n",
       "      <th>2</th>\n",
       "      <td>https://en.wikipedia.org/wiki/Fungus</td>\n",
       "      <td>0.057</td>\n",
       "      <td>0.035</td>\n",
       "      <td>164.662304</td>\n",
       "      <td>29.193717</td>\n",
       "      <td>11152.0</td>\n",
       "      <td>4.861101</td>\n",
       "    </tr>\n",
       "    <tr>\n",
       "      <th>3</th>\n",
       "      <td>https://en.wikipedia.org/wiki/Chromista</td>\n",
       "      <td>0.029</td>\n",
       "      <td>0.016</td>\n",
       "      <td>150.857143</td>\n",
       "      <td>26.119048</td>\n",
       "      <td>1097.0</td>\n",
       "      <td>5.018232</td>\n",
       "    </tr>\n",
       "    <tr>\n",
       "      <th>4</th>\n",
       "      <td>https://en.wikipedia.org/wiki/Diatom</td>\n",
       "      <td>0.062</td>\n",
       "      <td>0.027</td>\n",
       "      <td>159.332143</td>\n",
       "      <td>29.035714</td>\n",
       "      <td>8130.0</td>\n",
       "      <td>4.684625</td>\n",
       "    </tr>\n",
       "  </tbody>\n",
       "</table>\n",
       "</div>"
      ],
      "text/plain": [
       "                                                 Url  Positivity_score  \\\n",
       "0    https://en.wikipedia.org/wiki/Hygrocybe_miniata             0.042   \n",
       "1  https://en.wikipedia.org/wiki/Hygrocybe_appala...             0.025   \n",
       "2               https://en.wikipedia.org/wiki/Fungus             0.057   \n",
       "3            https://en.wikipedia.org/wiki/Chromista             0.029   \n",
       "4               https://en.wikipedia.org/wiki/Diatom             0.062   \n",
       "\n",
       "   Negativity_score  Avg_sentence_length  Avg_words_per_sentence  Word_Count  \\\n",
       "0             0.016           103.307692               21.538462       560.0   \n",
       "1             0.012           104.895522               20.522388      1375.0   \n",
       "2             0.035           164.662304               29.193717     11152.0   \n",
       "3             0.016           150.857143               26.119048      1097.0   \n",
       "4             0.027           159.332143               29.035714      8130.0   \n",
       "\n",
       "   Avg_word_length  \n",
       "0         4.046429  \n",
       "1         4.341818  \n",
       "2         4.861101  \n",
       "3         5.018232  \n",
       "4         4.684625  "
      ]
     },
     "execution_count": 30,
     "metadata": {},
     "output_type": "execute_result"
    }
   ],
   "source": [
    "new_df"
   ]
  },
  {
   "cell_type": "code",
   "execution_count": null,
   "metadata": {},
   "outputs": [],
   "source": []
  }
 ],
 "metadata": {
  "interpreter": {
   "hash": "ad2bdc8ecc057115af97d19610ffacc2b4e99fae6737bb82f5d7fb13d2f2c186"
  },
  "kernelspec": {
   "display_name": "Python 3.9.7 ('base')",
   "language": "python",
   "name": "python3"
  },
  "language_info": {
   "codemirror_mode": {
    "name": "ipython",
    "version": 3
   },
   "file_extension": ".py",
   "mimetype": "text/x-python",
   "name": "python",
   "nbconvert_exporter": "python",
   "pygments_lexer": "ipython3",
   "version": "3.9.7"
  },
  "orig_nbformat": 4
 },
 "nbformat": 4,
 "nbformat_minor": 2
}
